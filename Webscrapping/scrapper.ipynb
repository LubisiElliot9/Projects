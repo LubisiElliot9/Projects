{
 "cells": [
  {
   "cell_type": "code",
   "execution_count": 13,
   "metadata": {},
   "outputs": [],
   "source": [
    "import pandas as pd\n",
    "import numpy as np \n",
    "import matplotlib.pyplot as plt\n",
    "import seaborn as sns\n",
    "sns.set()\n",
    "from bs4 import BeautifulSoup \n",
    "import urllib.request as ur\n",
    "import yfinance as yf "
   ]
  },
  {
   "cell_type": "code",
   "execution_count": 20,
   "metadata": {},
   "outputs": [
    {
     "data": {
      "text/html": [
       "<div>\n",
       "<style scoped>\n",
       "    .dataframe tbody tr th:only-of-type {\n",
       "        vertical-align: middle;\n",
       "    }\n",
       "\n",
       "    .dataframe tbody tr th {\n",
       "        vertical-align: top;\n",
       "    }\n",
       "\n",
       "    .dataframe thead th {\n",
       "        text-align: right;\n",
       "    }\n",
       "</style>\n",
       "<table border=\"1\" class=\"dataframe\">\n",
       "  <thead>\n",
       "    <tr style=\"text-align: right;\">\n",
       "      <th></th>\n",
       "      <th>Open</th>\n",
       "      <th>High</th>\n",
       "      <th>Low</th>\n",
       "      <th>Close</th>\n",
       "      <th>Volume</th>\n",
       "      <th>Dividends</th>\n",
       "      <th>Stock Splits</th>\n",
       "    </tr>\n",
       "    <tr>\n",
       "      <th>Date</th>\n",
       "      <th></th>\n",
       "      <th></th>\n",
       "      <th></th>\n",
       "      <th></th>\n",
       "      <th></th>\n",
       "      <th></th>\n",
       "      <th></th>\n",
       "    </tr>\n",
       "  </thead>\n",
       "  <tbody>\n",
       "    <tr>\n",
       "      <th>2020-03-09</th>\n",
       "      <td>148.273228</td>\n",
       "      <td>154.901336</td>\n",
       "      <td>147.291286</td>\n",
       "      <td>147.900085</td>\n",
       "      <td>70419300</td>\n",
       "      <td>0.0</td>\n",
       "      <td>0</td>\n",
       "    </tr>\n",
       "    <tr>\n",
       "      <th>2020-03-10</th>\n",
       "      <td>155.303900</td>\n",
       "      <td>158.122068</td>\n",
       "      <td>149.824663</td>\n",
       "      <td>158.014053</td>\n",
       "      <td>65354400</td>\n",
       "      <td>0.0</td>\n",
       "      <td>0</td>\n",
       "    </tr>\n",
       "    <tr>\n",
       "      <th>2020-03-11</th>\n",
       "      <td>154.292540</td>\n",
       "      <td>154.852239</td>\n",
       "      <td>148.420517</td>\n",
       "      <td>150.855743</td>\n",
       "      <td>56371600</td>\n",
       "      <td>0.0</td>\n",
       "      <td>0</td>\n",
       "    </tr>\n",
       "    <tr>\n",
       "      <th>2020-03-12</th>\n",
       "      <td>142.676166</td>\n",
       "      <td>150.698630</td>\n",
       "      <td>136.077515</td>\n",
       "      <td>136.548843</td>\n",
       "      <td>93226400</td>\n",
       "      <td>0.0</td>\n",
       "      <td>0</td>\n",
       "    </tr>\n",
       "    <tr>\n",
       "      <th>2020-03-13</th>\n",
       "      <td>144.836420</td>\n",
       "      <td>158.986205</td>\n",
       "      <td>138.188669</td>\n",
       "      <td>155.961823</td>\n",
       "      <td>92727400</td>\n",
       "      <td>0.0</td>\n",
       "      <td>0</td>\n",
       "    </tr>\n",
       "  </tbody>\n",
       "</table>\n",
       "</div>"
      ],
      "text/plain": [
       "                  Open        High         Low       Close    Volume  \\\n",
       "Date                                                                   \n",
       "2020-03-09  148.273228  154.901336  147.291286  147.900085  70419300   \n",
       "2020-03-10  155.303900  158.122068  149.824663  158.014053  65354400   \n",
       "2020-03-11  154.292540  154.852239  148.420517  150.855743  56371600   \n",
       "2020-03-12  142.676166  150.698630  136.077515  136.548843  93226400   \n",
       "2020-03-13  144.836420  158.986205  138.188669  155.961823  92727400   \n",
       "\n",
       "            Dividends  Stock Splits  \n",
       "Date                                 \n",
       "2020-03-09        0.0             0  \n",
       "2020-03-10        0.0             0  \n",
       "2020-03-11        0.0             0  \n",
       "2020-03-12        0.0             0  \n",
       "2020-03-13        0.0             0  "
      ]
     },
     "execution_count": 20,
     "metadata": {},
     "output_type": "execute_result"
    }
   ],
   "source": [
    "msft = yf.Ticker(\"MSFT\")\n",
    "history = msft.history(period=\"2y\")\n",
    "history.head()"
   ]
  },
  {
   "cell_type": "code",
   "execution_count": 21,
   "metadata": {},
   "outputs": [
    {
     "data": {
      "text/html": [
       "<div>\n",
       "<style scoped>\n",
       "    .dataframe tbody tr th:only-of-type {\n",
       "        vertical-align: middle;\n",
       "    }\n",
       "\n",
       "    .dataframe tbody tr th {\n",
       "        vertical-align: top;\n",
       "    }\n",
       "\n",
       "    .dataframe thead th {\n",
       "        text-align: right;\n",
       "    }\n",
       "</style>\n",
       "<table border=\"1\" class=\"dataframe\">\n",
       "  <thead>\n",
       "    <tr style=\"text-align: right;\">\n",
       "      <th></th>\n",
       "      <th>Open</th>\n",
       "      <th>High</th>\n",
       "      <th>Low</th>\n",
       "      <th>Close</th>\n",
       "      <th>Volume</th>\n",
       "      <th>Dividends</th>\n",
       "      <th>Stock Splits</th>\n",
       "    </tr>\n",
       "    <tr>\n",
       "      <th>Date</th>\n",
       "      <th></th>\n",
       "      <th></th>\n",
       "      <th></th>\n",
       "      <th></th>\n",
       "      <th></th>\n",
       "      <th></th>\n",
       "      <th></th>\n",
       "    </tr>\n",
       "  </thead>\n",
       "  <tbody>\n",
       "    <tr>\n",
       "      <th>2022-03-03</th>\n",
       "      <td>302.890015</td>\n",
       "      <td>303.130005</td>\n",
       "      <td>294.049988</td>\n",
       "      <td>295.920013</td>\n",
       "      <td>27314500</td>\n",
       "      <td>0.0</td>\n",
       "      <td>0</td>\n",
       "    </tr>\n",
       "    <tr>\n",
       "      <th>2022-03-04</th>\n",
       "      <td>294.290009</td>\n",
       "      <td>295.660004</td>\n",
       "      <td>287.170013</td>\n",
       "      <td>289.859985</td>\n",
       "      <td>32356500</td>\n",
       "      <td>0.0</td>\n",
       "      <td>0</td>\n",
       "    </tr>\n",
       "    <tr>\n",
       "      <th>2022-03-07</th>\n",
       "      <td>288.529999</td>\n",
       "      <td>289.690002</td>\n",
       "      <td>278.529999</td>\n",
       "      <td>278.910004</td>\n",
       "      <td>43088700</td>\n",
       "      <td>0.0</td>\n",
       "      <td>0</td>\n",
       "    </tr>\n",
       "    <tr>\n",
       "      <th>2022-03-08</th>\n",
       "      <td>277.799988</td>\n",
       "      <td>283.959991</td>\n",
       "      <td>270.000000</td>\n",
       "      <td>275.850006</td>\n",
       "      <td>48121700</td>\n",
       "      <td>0.0</td>\n",
       "      <td>0</td>\n",
       "    </tr>\n",
       "    <tr>\n",
       "      <th>2022-03-09</th>\n",
       "      <td>283.440002</td>\n",
       "      <td>287.709991</td>\n",
       "      <td>280.790009</td>\n",
       "      <td>287.440002</td>\n",
       "      <td>21165774</td>\n",
       "      <td>0.0</td>\n",
       "      <td>0</td>\n",
       "    </tr>\n",
       "  </tbody>\n",
       "</table>\n",
       "</div>"
      ],
      "text/plain": [
       "                  Open        High         Low       Close    Volume  \\\n",
       "Date                                                                   \n",
       "2022-03-03  302.890015  303.130005  294.049988  295.920013  27314500   \n",
       "2022-03-04  294.290009  295.660004  287.170013  289.859985  32356500   \n",
       "2022-03-07  288.529999  289.690002  278.529999  278.910004  43088700   \n",
       "2022-03-08  277.799988  283.959991  270.000000  275.850006  48121700   \n",
       "2022-03-09  283.440002  287.709991  280.790009  287.440002  21165774   \n",
       "\n",
       "            Dividends  Stock Splits  \n",
       "Date                                 \n",
       "2022-03-03        0.0             0  \n",
       "2022-03-04        0.0             0  \n",
       "2022-03-07        0.0             0  \n",
       "2022-03-08        0.0             0  \n",
       "2022-03-09        0.0             0  "
      ]
     },
     "execution_count": 21,
     "metadata": {},
     "output_type": "execute_result"
    }
   ],
   "source": [
    "history.tail()"
   ]
  },
  {
   "cell_type": "code",
   "execution_count": 22,
   "metadata": {},
   "outputs": [
    {
     "data": {
      "text/plain": [
       "<AxesSubplot:xlabel='Date'>"
      ]
     },
     "execution_count": 22,
     "metadata": {},
     "output_type": "execute_result"
    },
    {
     "data": {
      "image/png": "[encoded data removed]",
      "text/plain": [
       "<Figure size 1152x648 with 1 Axes>"
      ]
     },
     "metadata": {
      "needs_background": "light"
     },
     "output_type": "display_data"
    }
   ],
   "source": [
    "history['Close'].plot(figsize=(16,9))"
   ]
  },
  {
   "cell_type": "code",
   "execution_count": 18,
   "metadata": {},
   "outputs": [],
   "source": [
    "history.to_csv(\"Microsoft_Stock_data.csv\")"
   ]
  }
 ],
 "metadata": {
  "interpreter": {
   "hash": "adb5213e0ce954e7c0f51d6e9f7836ed74e784d1e79196b4ccf04ec2192a71e1"
  },
  "kernelspec": {
   "display_name": "Python 3.9.7 ('base')",
   "language": "python",
   "name": "python3"
  },
  "language_info": {
   "codemirror_mode": {
    "name": "ipython",
    "version": 3
   },
   "file_extension": ".py",
   "mimetype": "text/x-python",
   "name": "python",
   "nbconvert_exporter": "python",
   "pygments_lexer": "ipython3",
   "version": "3.9.7"
  },
  "orig_nbformat": 4
 },
 "nbformat": 4,
 "nbformat_minor": 2
}
